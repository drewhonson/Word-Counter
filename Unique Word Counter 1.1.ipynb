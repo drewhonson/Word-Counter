{
 "cells": [
  {
   "cell_type": "markdown",
   "metadata": {},
   "source": [
    "##**Unique Word Counter**\n",
    "\n",
    "Drew Honson"
   ]
  },
  {
   "cell_type": "code",
   "execution_count": 26,
   "metadata": {},
   "outputs": [
    {
     "name": "stdout",
     "output_type": "stream",
     "text": [
      "Total Characters with Spaces: 268\n",
      "Total Characters without Spaces: 222\n",
      "Total Words: 45\n",
      "Total Unique Words: 40\n"
     ]
    },
    {
     "data": {
      "image/png": "[encoded data removed]",
      "text/plain": [
       "<matplotlib.figure.Figure at 0x119994240>"
      ]
     },
     "metadata": {},
     "output_type": "display_data"
    }
   ],
   "source": [
    "#Import packages\n",
    "%matplotlib inline\n",
    "import matplotlib.pyplot as plt\n",
    "plt.style.use(\"seaborn-colorblind\")\n",
    "\n",
    "#Set up forbidden characters\n",
    "forbidden = [\".\",\":\",\";\",\",\",\"!\",\"?\",\"1\",\"2\",\"3\",\"4\",\"5\",\"6\",\"7\",\"8\",\"9\",\"0\",\"-\",'\"']\n",
    "\n",
    "#Input text\n",
    "sentence = \"\"\"Let us go then, you and I as the evening is set out against \n",
    "the sky like a patient etherized upon a table. Let use go through certain\n",
    "half-deserted streets. The muttering retreats of restless nights in one night\n",
    "cheap hotels and sawdust restaurants with oyster shells\"\"\"\n",
    "characters = list(sentence)\n",
    "\n",
    "#Remove forbidden characters.\n",
    "for i in characters:\n",
    "    for r in forbidden:\n",
    "        if r in i:\n",
    "            characters.remove(i)\n",
    "        else:\n",
    "            break\n",
    "\n",
    "#Convert list to string. Make characters lower case. Convert string to list. Convert list to set.\n",
    "sentence1 = ''.join(characters)\n",
    "sentence2 = sentence1.lower()\n",
    "sentence3 = sentence2.split(\" \")\n",
    "sentence4 = set(sentence3)\n",
    "\n",
    "#Total Characters with Spaces\n",
    "chsp = len(sentence)\n",
    "print(\"Total Characters with Spaces: \" + str(chsp))\n",
    "#Total Characters without Spaces\n",
    "sentence5 = ''.join(sentence3)\n",
    "chnsp = len(sentence5)\n",
    "print(\"Total Characters without Spaces: \" + str(chnsp))\n",
    "#Total Words\n",
    "print(\"Total Words: \" + str(len(sentence3)))\n",
    "#Total Unique Words\n",
    "print(\"Total Unique Words: \" + str(len(sentence4)))\n",
    "\n",
    "#Word Statistics\n",
    "\n",
    "#Empty list\n",
    "word_counts = []\n",
    "\n",
    "#Count occurrences of unique words (sentence4) in total sentence (sentence3)\n",
    "for i in sentence4:\n",
    "    if i in sentence3:\n",
    "        word_counts.append(sentence3.count(i))\n",
    "\n",
    "#Combine the two lists and turn it into a dictionary\n",
    "sentence4_and_word_counts = zip(sentence4,word_counts)\n",
    "wrdct = dict(sentence4_and_word_counts)\n",
    "\n",
    "#Sort the words by word count\n",
    "wrdst = sorted(wrdct, key=wrdct.__getitem__)\n",
    "nosrt = sorted(wrdct.values())\n",
    "srt_wrdct = zip(wrdst,nosrt)\n",
    "wordsort = dict(srt_wrdct)\n",
    "\n",
    "#Plot the dictionary on a bar graph\n",
    "plt.bar(range(len(wordsort)), wordsort.values(), align='center')\n",
    "plt.xticks(range(len(wordsort)), wordsort.keys(), rotation='45')\n",
    "plt.title(\"Histogram of Word Usage\")\n",
    "plt.ylabel(\"Word Count\")\n",
    "\n",
    "plt.show()"
   ]
  },
  {
   "cell_type": "code",
   "execution_count": 14,
   "metadata": {},
   "outputs": [
    {
     "name": "stdout",
     "output_type": "stream",
     "text": [
      "[6.0, 4.0]\n"
     ]
    }
   ],
   "source": [
    "fig_size = plt.rcParams[\"figure.figsize\"]\n",
    "print(fig_size)"
   ]
  },
  {
   "cell_type": "code",
   "execution_count": null,
   "metadata": {
    "collapsed": true
   },
   "outputs": [],
   "source": []
  }
 ],
 "metadata": {
  "kernelspec": {
   "display_name": "Python 3",
   "language": "python",
   "name": "python3"
  },
  "language_info": {
   "codemirror_mode": {
    "name": "ipython",
    "version": 3
   },
   "file_extension": ".py",
   "mimetype": "text/x-python",
   "name": "python",
   "nbconvert_exporter": "python",
   "pygments_lexer": "ipython3",
   "version": "3.6.1"
  }
 },
 "nbformat": 4,
 "nbformat_minor": 2
}
